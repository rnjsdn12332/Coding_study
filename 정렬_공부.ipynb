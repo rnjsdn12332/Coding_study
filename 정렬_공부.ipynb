{
  "nbformat": 4,
  "nbformat_minor": 0,
  "metadata": {
    "colab": {
      "name": "정렬.ipynb",
      "provenance": [],
      "authorship_tag": "ABX9TyNfEsh8fBDDQbbUutNPbH0r",
      "include_colab_link": true
    },
    "kernelspec": {
      "name": "python3",
      "display_name": "Python 3"
    },
    "language_info": {
      "name": "python"
    }
  },
  "cells": [
    {
      "cell_type": "markdown",
      "metadata": {
        "id": "view-in-github",
        "colab_type": "text"
      },
      "source": [
        "<a href=\"https://colab.research.google.com/github/rnjsdn12332/Coding_study/blob/main/%EC%A0%95%EB%A0%AC_%EA%B3%B5%EB%B6%80.ipynb\" target=\"_parent\"><img src=\"https://colab.research.google.com/assets/colab-badge.svg\" alt=\"Open In Colab\"/></a>"
      ]
    },
    {
      "cell_type": "markdown",
      "source": [
        "선택정렬"
      ],
      "metadata": {
        "id": "nFq9_oDEwwLI"
      }
    },
    {
      "cell_type": "code",
      "source": [
        "import random\n",
        "import time\n",
        "array=[]\n",
        "for i in range(10000) :\n",
        "    array.append(random.randint(1,100))"
      ],
      "metadata": {
        "id": "YartEOHfoOLA"
      },
      "execution_count": null,
      "outputs": []
    },
    {
      "cell_type": "code",
      "source": [
        "start_time = time.time()\n",
        "for i in range(len(array)) :\n",
        "    min=i\n",
        "    for j in range(i+1, len(array)) :\n",
        "        if array[min]>array[j] :\n",
        "            min=j\n",
        "    array[min], array[i]=array[i], array[min]\n",
        "end_time=time.time()\n",
        "print(\"선택정렬 연산 처리 속도 : \",end_time- start_time)"
      ],
      "metadata": {
        "colab": {
          "base_uri": "https://localhost:8080/"
        },
        "id": "oJ6V8T87u_TS",
        "outputId": "f0e1e08b-77e0-4989-f26a-23eeddc0fb71"
      },
      "execution_count": null,
      "outputs": [
        {
          "output_type": "stream",
          "name": "stdout",
          "text": [
            "선택정렬 연산 처리 속도 :  7.28566575050354\n"
          ]
        }
      ]
    },
    {
      "cell_type": "code",
      "source": [
        "\n",
        "array=[]\n",
        "for i in range(10000) :\n",
        "    array.append(random.randint(1,100))\n",
        "\n",
        "start_time = time.time()\n",
        "\n",
        "array.sort()\n",
        "\n",
        "end_time=time.time()\n",
        "print(\"선택정렬 연산 처리 속도 : \",end_time- start_time)"
      ],
      "metadata": {
        "colab": {
          "base_uri": "https://localhost:8080/"
        },
        "id": "urTB6QfgwGoy",
        "outputId": "12f8327d-bc5a-401f-ff37-6dd59f7ad63e"
      },
      "execution_count": null,
      "outputs": [
        {
          "output_type": "stream",
          "name": "stdout",
          "text": [
            "선택정렬 연산 처리 속도 :  0.0012784004211425781\n"
          ]
        }
      ]
    },
    {
      "cell_type": "code",
      "source": [
        "a=216.9\n",
        "print(round(a, -2))"
      ],
      "metadata": {
        "colab": {
          "base_uri": "https://localhost:8080/"
        },
        "id": "zhj1urlWxZXx",
        "outputId": "19040bcd-1235-4b8f-e590-19ea826d2774"
      },
      "execution_count": null,
      "outputs": [
        {
          "output_type": "stream",
          "name": "stdout",
          "text": [
            "200.0\n"
          ]
        }
      ]
    },
    {
      "cell_type": "code",
      "source": [
        "n = 3\n",
        "m = 4\n",
        "array = [m * [0] for _ in range(n)]"
      ],
      "metadata": {
        "id": "jzIGJbQQ9w71"
      },
      "execution_count": null,
      "outputs": []
    },
    {
      "cell_type": "code",
      "source": [
        "array[1][1]=5"
      ],
      "metadata": {
        "id": "8XeDexl5_qiA"
      },
      "execution_count": null,
      "outputs": []
    },
    {
      "cell_type": "code",
      "source": [
        "array"
      ],
      "metadata": {
        "colab": {
          "base_uri": "https://localhost:8080/"
        },
        "id": "hmICnUor_tXF",
        "outputId": "fcfd50ea-d6c3-44e8-dfc0-cf87ac5f1285"
      },
      "execution_count": null,
      "outputs": [
        {
          "output_type": "execute_result",
          "data": {
            "text/plain": [
              "[[0, 0, 0, 0], [0, 5, 0, 0], [0, 0, 0, 0]]"
            ]
          },
          "metadata": {},
          "execution_count": 46
        }
      ]
    },
    {
      "cell_type": "code",
      "source": [
        "import sys\n",
        "\n",
        "data = sys.stdin.readline().rstrip()\n",
        "print(data)"
      ],
      "metadata": {
        "colab": {
          "base_uri": "https://localhost:8080/"
        },
        "id": "rYgfoy2L_vdM",
        "outputId": "4193d1e0-d0bd-4a8e-a68f-84b9c75d8305"
      },
      "execution_count": null,
      "outputs": [
        {
          "output_type": "stream",
          "name": "stdout",
          "text": [
            "\n"
          ]
        }
      ]
    },
    {
      "cell_type": "markdown",
      "source": [
        "itertools"
      ],
      "metadata": {
        "id": "ODfuZ55DNtSR"
      }
    },
    {
      "cell_type": "code",
      "source": [
        "from itertools import permutations\n",
        "from itertools import product\n",
        "from itertools import combinations_with_replacement\n"
      ],
      "metadata": {
        "id": "NhrrzQtbNrnZ"
      },
      "execution_count": null,
      "outputs": []
    },
    {
      "cell_type": "code",
      "source": [
        "data=['a','b','c']\n",
        "#순열\n",
        "list(permutations(data, 2))"
      ],
      "metadata": {
        "id": "_zjIubs-C3un",
        "colab": {
          "base_uri": "https://localhost:8080/"
        },
        "outputId": "0c9f9457-cf95-4715-cfc3-be132124fa56"
      },
      "execution_count": null,
      "outputs": [
        {
          "output_type": "execute_result",
          "data": {
            "text/plain": [
              "[('a', 'b'), ('a', 'c'), ('b', 'a'), ('b', 'c'), ('c', 'a'), ('c', 'b')]"
            ]
          },
          "metadata": {},
          "execution_count": 6
        }
      ]
    },
    {
      "cell_type": "code",
      "source": [
        "#순열(중복값 허용)\n",
        "list(product(data, repeat=2))"
      ],
      "metadata": {
        "colab": {
          "base_uri": "https://localhost:8080/"
        },
        "id": "l6hZH1FmOdUr",
        "outputId": "8e0cab36-0dd0-4541-aec7-cf9ae1ada686"
      },
      "execution_count": null,
      "outputs": [
        {
          "output_type": "execute_result",
          "data": {
            "text/plain": [
              "[('a', 'a'),\n",
              " ('a', 'b'),\n",
              " ('a', 'c'),\n",
              " ('b', 'a'),\n",
              " ('b', 'b'),\n",
              " ('b', 'c'),\n",
              " ('c', 'a'),\n",
              " ('c', 'b'),\n",
              " ('c', 'c')]"
            ]
          },
          "metadata": {},
          "execution_count": 14
        }
      ]
    },
    {
      "cell_type": "code",
      "source": [
        "#조합(중복값 허용)\n",
        "list(combinations_with_replacement(data, 2))"
      ],
      "metadata": {
        "colab": {
          "base_uri": "https://localhost:8080/"
        },
        "id": "8Dqk-DufOsh1",
        "outputId": "3bd1ac97-bdef-4bd0-8f4a-9a2c0bb94df7"
      },
      "execution_count": null,
      "outputs": [
        {
          "output_type": "execute_result",
          "data": {
            "text/plain": [
              "[('a', 'a'), ('a', 'b'), ('a', 'c'), ('b', 'b'), ('b', 'c'), ('c', 'c')]"
            ]
          },
          "metadata": {},
          "execution_count": 15
        }
      ]
    },
    {
      "cell_type": "markdown",
      "source": [
        "최소 힙 정렬"
      ],
      "metadata": {
        "id": "S_EHf1sT1jXR"
      }
    },
    {
      "cell_type": "code",
      "source": [
        "import heapq\n",
        "\n",
        "def heapsort(iterable):\n",
        "    h=[]\n",
        "    result=[]\n",
        "\n",
        "    for v in iterable:\n",
        "        heapq.heappush(h, v)\n",
        "        print(h,v)\n",
        "    for i in range(len(h)):\n",
        "        result.append(heapq.heappop(h))\n",
        "    return result"
      ],
      "metadata": {
        "id": "mgWsxqsbO9QS"
      },
      "execution_count": null,
      "outputs": []
    },
    {
      "cell_type": "code",
      "source": [
        "result = heapsort([1, 3, 5, 7, 9, 2, 4, 6, 8, 0])\n",
        "print(result)"
      ],
      "metadata": {
        "colab": {
          "base_uri": "https://localhost:8080/"
        },
        "id": "4hR4dQIlTbbt",
        "outputId": "e99dc6d6-abea-4dbf-b840-a0c0ceebf79c"
      },
      "execution_count": null,
      "outputs": [
        {
          "output_type": "stream",
          "name": "stdout",
          "text": [
            "[1] 1\n",
            "[1, 3] 3\n",
            "[1, 3, 5] 5\n",
            "[1, 3, 5, 7] 7\n",
            "[1, 3, 5, 7, 9] 9\n",
            "[1, 3, 2, 7, 9, 5] 2\n",
            "[1, 3, 2, 7, 9, 5, 4] 4\n",
            "[1, 3, 2, 6, 9, 5, 4, 7] 6\n",
            "[1, 3, 2, 6, 9, 5, 4, 7, 8] 8\n",
            "[0, 1, 2, 6, 3, 5, 4, 7, 8, 9] 0\n",
            "[0, 1, 2, 3, 4, 5, 6, 7, 8, 9]\n"
          ]
        }
      ]
    },
    {
      "cell_type": "markdown",
      "source": [
        "최대 힙 정렬"
      ],
      "metadata": {
        "id": "QwqqBsSX1mbk"
      }
    },
    {
      "cell_type": "code",
      "source": [
        "import heapq\n",
        "\n",
        "def heapsort(iterable):\n",
        "    h=[]\n",
        "    result=[]\n",
        "\n",
        "    for v in iterable:\n",
        "        heapq.heappush(h, -v)\n",
        "        print(h,v)\n",
        "    for i in range(len(h)):\n",
        "        result.append(-heapq.heappop(h))\n",
        "    return result"
      ],
      "metadata": {
        "id": "LasIHU3PTeM0"
      },
      "execution_count": null,
      "outputs": []
    },
    {
      "cell_type": "code",
      "source": [
        "result = heapsort([1, 3, 5, 7, 9, 2, 4, 6, 8, 0])\n",
        "print(result)"
      ],
      "metadata": {
        "colab": {
          "base_uri": "https://localhost:8080/"
        },
        "id": "_XLUp56R1Tlk",
        "outputId": "e7383d65-ee2b-4b39-9aab-2bdd593f0d51"
      },
      "execution_count": null,
      "outputs": [
        {
          "output_type": "stream",
          "name": "stdout",
          "text": [
            "[-1] 1\n",
            "[-3, -1] 3\n",
            "[-5, -1, -3] 5\n",
            "[-7, -5, -3, -1] 7\n",
            "[-9, -7, -3, -1, -5] 9\n",
            "[-9, -7, -3, -1, -5, -2] 2\n",
            "[-9, -7, -4, -1, -5, -2, -3] 4\n",
            "[-9, -7, -4, -6, -5, -2, -3, -1] 6\n",
            "[-9, -8, -4, -7, -5, -2, -3, -1, -6] 8\n",
            "[-9, -8, -4, -7, -5, -2, -3, -1, -6, 0] 0\n",
            "[9, 8, 7, 6, 5, 4, 3, 2, 1, 0]\n"
          ]
        }
      ]
    },
    {
      "cell_type": "code",
      "source": [
        "from bisect import bisect_left, bisect_right\n",
        "\n",
        "# 특정한 원소의 배열 위치 \n",
        "a = [1, 2, 4, 4, 4,4 , 8]\n",
        "print(bisect_right(a, 4))\n",
        "\n",
        "print(bisect_left(a, 4))\n",
        "\n"
      ],
      "metadata": {
        "colab": {
          "base_uri": "https://localhost:8080/"
        },
        "id": "4vKwk7mm1VIQ",
        "outputId": "1787816c-8fc2-4e90-a65e-671ab13bc591"
      },
      "execution_count": null,
      "outputs": [
        {
          "output_type": "stream",
          "name": "stdout",
          "text": [
            "6\n",
            "2\n"
          ]
        }
      ]
    },
    {
      "cell_type": "code",
      "source": [
        "#특정 범위에 속하는 원소의 갯수 구하는 함수\n",
        "\n",
        "def counter_x(list_a, start, end) :\n",
        "    return bisect_right(list_a, end)-bisect_left(list_a, start)\n",
        "    "
      ],
      "metadata": {
        "id": "vJ1cxw6h3BT2"
      },
      "execution_count": null,
      "outputs": []
    },
    {
      "cell_type": "code",
      "source": [
        "print(counter_x(\"abkckdddfkeodddd\", \"dd\",\"dd\"))"
      ],
      "metadata": {
        "colab": {
          "base_uri": "https://localhost:8080/"
        },
        "id": "sdH-UV766H6L",
        "outputId": "0eee6f76-8ef4-4784-ca63-b3b2fb0960c9"
      },
      "execution_count": null,
      "outputs": [
        {
          "output_type": "stream",
          "name": "stdout",
          "text": [
            "0\n"
          ]
        }
      ]
    },
    {
      "cell_type": "code",
      "source": [
        "print(counter_x([1,2,3,4,4,4,5,6,8], 1,8))"
      ],
      "metadata": {
        "colab": {
          "base_uri": "https://localhost:8080/"
        },
        "id": "8JlWCRZC6M6n",
        "outputId": "a7abcfc7-e628-416e-c966-874f50d37266"
      },
      "execution_count": null,
      "outputs": [
        {
          "output_type": "stream",
          "name": "stdout",
          "text": [
            "9\n"
          ]
        }
      ]
    },
    {
      "cell_type": "code",
      "source": [
        "len([1,2,3,4,4,4,5,6,8])"
      ],
      "metadata": {
        "colab": {
          "base_uri": "https://localhost:8080/"
        },
        "id": "RYbfkYyW6RWA",
        "outputId": "09c7ff60-f571-4a29-e113-9b90256a3c5d"
      },
      "execution_count": null,
      "outputs": [
        {
          "output_type": "execute_result",
          "data": {
            "text/plain": [
              "9"
            ]
          },
          "metadata": {},
          "execution_count": 30
        }
      ]
    },
    {
      "cell_type": "code",
      "source": [
        ""
      ],
      "metadata": {
        "id": "wEjt_XCr6Tck"
      },
      "execution_count": null,
      "outputs": []
    }
  ]
}