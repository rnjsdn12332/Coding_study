{
  "nbformat": 4,
  "nbformat_minor": 0,
  "metadata": {
    "colab": {
      "name": "Programmers_이중우선순위큐.ipynb",
      "provenance": [],
      "authorship_tag": "ABX9TyPR16zl1c0uJqJ6Ehmix/E/",
      "include_colab_link": true
    },
    "kernelspec": {
      "name": "python3",
      "display_name": "Python 3"
    },
    "language_info": {
      "name": "python"
    }
  },
  "cells": [
    {
      "cell_type": "markdown",
      "metadata": {
        "id": "view-in-github",
        "colab_type": "text"
      },
      "source": [
        "<a href=\"https://colab.research.google.com/github/rnjsdn12332/Coding_study/blob/main/Programmers_%EC%9D%B4%EC%A4%91%EC%9A%B0%EC%84%A0%EC%88%9C%EC%9C%84%ED%81%90.ipynb\" target=\"_parent\"><img src=\"https://colab.research.google.com/assets/colab-badge.svg\" alt=\"Open In Colab\"/></a>"
      ]
    },
    {
      "cell_type": "code",
      "execution_count": null,
      "metadata": {
        "id": "W6XwWenOpaMF"
      },
      "outputs": [],
      "source": [
        "import heapq\n",
        "\n",
        "def solution(operations):\n",
        "    result = []\n",
        "    answer = []\n",
        "    for log in operations :\n",
        "        if log.startswith(\"I\") :\n",
        "            num=log.split(\" \")[-1]\n",
        "            result=[]\n",
        "            for i in range(len(answer)) :\n",
        "                heapq.heappush(result, answer[i])\n",
        "            heapq.heappush(result,int(num))\n",
        "            answer=[]\n",
        "            for h in range(len(result)) :\n",
        "                answer.append(heapq.heappop(result))\n",
        "        if len(answer)!=0 :\n",
        "            if log==\"D 1\" :\n",
        "                    print(answer.pop(-1))\n",
        "\n",
        "            elif log==\"D -1\" :\n",
        "                print(answer.pop(0))\n",
        "    if len(answer)==0 :\n",
        "        return [0,0]\n",
        "    else :\n",
        "        return [answer[-1],answer[0]]\n"
      ]
    }
  ]
}