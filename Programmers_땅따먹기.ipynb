{
  "nbformat": 4,
  "nbformat_minor": 0,
  "metadata": {
    "colab": {
      "name": "\bProgrammers_땅따먹기.ipynb",
      "provenance": [],
      "authorship_tag": "ABX9TyM/HNk1sqNZlWRgQU0DmZ7j",
      "include_colab_link": true
    },
    "kernelspec": {
      "name": "python3",
      "display_name": "Python 3"
    },
    "language_info": {
      "name": "python"
    }
  },
  "cells": [
    {
      "cell_type": "markdown",
      "metadata": {
        "id": "view-in-github",
        "colab_type": "text"
      },
      "source": [
        "<a href=\"https://colab.research.google.com/github/rnjsdn12332/Coding_study/blob/main/%08Programmers_%EB%95%85%EB%94%B0%EB%A8%B9%EA%B8%B0.ipynb\" target=\"_parent\"><img src=\"https://colab.research.google.com/assets/colab-badge.svg\" alt=\"Open In Colab\"/></a>"
      ]
    },
    {
      "cell_type": "code",
      "execution_count": null,
      "metadata": {
        "id": "9hAwvwmuEAIO"
      },
      "outputs": [],
      "source": [
        "def solution(land):\n",
        "    for i in range(1, len(land)):\n",
        "        for j in range(len(land[0])):\n",
        "            land[i][j]+=max(land[i-1][0:j]+land[i-1][j+1:])\n",
        "    return max(land[-1])"
      ]
    }
  ]
}