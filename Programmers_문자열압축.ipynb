{
  "nbformat": 4,
  "nbformat_minor": 0,
  "metadata": {
    "colab": {
      "name": "Programmers_문자열압축.ipynb",
      "provenance": [],
      "authorship_tag": "ABX9TyPMVir55v3iy6Vk7aHQ8ck/",
      "include_colab_link": true
    },
    "kernelspec": {
      "name": "python3",
      "display_name": "Python 3"
    },
    "language_info": {
      "name": "python"
    }
  },
  "cells": [
    {
      "cell_type": "markdown",
      "metadata": {
        "id": "view-in-github",
        "colab_type": "text"
      },
      "source": [
        "<a href=\"https://colab.research.google.com/github/rnjsdn12332/Coding_study/blob/main/Programmers_%EB%AC%B8%EC%9E%90%EC%97%B4%EC%95%95%EC%B6%95.ipynb\" target=\"_parent\"><img src=\"https://colab.research.google.com/assets/colab-badge.svg\" alt=\"Open In Colab\"/></a>"
      ]
    },
    {
      "cell_type": "code",
      "execution_count": 1,
      "metadata": {
        "id": "Dq3N1Hy7CMrw"
      },
      "outputs": [],
      "source": [
        "def solution(s):\n",
        "    answer=[]\n",
        "    if 1==len(s) :\n",
        "        return 1\n",
        "    for i in range(1, (len(s)//2)+1):\n",
        "        b=''\n",
        "        cnt=1\n",
        "        temp=s[:i]\n",
        "        for j in range(i, len(s), i) : \n",
        "            if s[j:i+j]==temp : \n",
        "                cnt+=1\n",
        "            else : \n",
        "                if cnt!=1 :\n",
        "                    b=b+str(cnt)+temp\n",
        "                else :\n",
        "                    b=b+temp\n",
        "                \n",
        "                temp=s[j:j+i]\n",
        "                cnt=1\n",
        "        if cnt!=1 :\n",
        "            b=b+str(cnt)+temp\n",
        "        else :\n",
        "            b=b+temp\n",
        "        print(b)\n",
        "        answer.append(len(b))\n",
        "    return min(answer)\n"
      ]
    },
    {
      "cell_type": "code",
      "source": [
        ""
      ],
      "metadata": {
        "id": "0_yO2L6wCX5J"
      },
      "execution_count": null,
      "outputs": []
    }
  ]
}