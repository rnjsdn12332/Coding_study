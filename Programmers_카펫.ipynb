{
  "nbformat": 4,
  "nbformat_minor": 0,
  "metadata": {
    "colab": {
      "name": "Programmers_카펫.ipynb",
      "provenance": [],
      "authorship_tag": "ABX9TyMkRzv2ijDB3RzcwRNoRG6e",
      "include_colab_link": true
    },
    "kernelspec": {
      "name": "python3",
      "display_name": "Python 3"
    },
    "language_info": {
      "name": "python"
    }
  },
  "cells": [
    {
      "cell_type": "markdown",
      "metadata": {
        "id": "view-in-github",
        "colab_type": "text"
      },
      "source": [
        "<a href=\"https://colab.research.google.com/github/rnjsdn12332/Coding_study/blob/main/Programmers_%EC%B9%B4%ED%8E%AB.ipynb\" target=\"_parent\"><img src=\"https://colab.research.google.com/assets/colab-badge.svg\" alt=\"Open In Colab\"/></a>"
      ]
    },
    {
      "cell_type": "code",
      "execution_count": null,
      "metadata": {
        "id": "O_-86Qdr0OPZ"
      },
      "outputs": [],
      "source": [
        "def solution(brown, yellow):\n",
        "    answer = []\n",
        "    for pred_w in range(brown,1,-1) :\n",
        "        if (brown+yellow)%pred_w == 0 :\n",
        "            pred_h=int((brown+yellow)/pred_w)\n",
        "            if 2*(pred_h+pred_w)==brown+4 :\n",
        "                return [pred_w, pred_h]\n",
        "                \n",
        "                "
      ]
    }
  ]
}