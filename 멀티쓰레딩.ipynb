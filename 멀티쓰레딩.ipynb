{
  "nbformat": 4,
  "nbformat_minor": 0,
  "metadata": {
    "colab": {
      "name": "멀티쓰레딩.ipynb",
      "provenance": [],
      "collapsed_sections": [],
      "authorship_tag": "ABX9TyNGOFYz3Sv1+ni635Cd7Cdd",
      "include_colab_link": true
    },
    "kernelspec": {
      "name": "python3",
      "display_name": "Python 3"
    },
    "language_info": {
      "name": "python"
    }
  },
  "cells": [
    {
      "cell_type": "markdown",
      "metadata": {
        "id": "view-in-github",
        "colab_type": "text"
      },
      "source": [
        "<a href=\"https://colab.research.google.com/github/rnjsdn12332/Coding_study/blob/main/%EB%A9%80%ED%8B%B0%EC%93%B0%EB%A0%88%EB%94%A9.ipynb\" target=\"_parent\"><img src=\"https://colab.research.google.com/assets/colab-badge.svg\" alt=\"Open In Colab\"/></a>"
      ]
    },
    {
      "cell_type": "code",
      "execution_count": null,
      "metadata": {
        "id": "vXCyEugQ3MkG"
      },
      "outputs": [],
      "source": [
        "import threading"
      ]
    },
    {
      "cell_type": "code",
      "source": [
        "import time"
      ],
      "metadata": {
        "id": "jTMo8VFj3Pkm"
      },
      "execution_count": null,
      "outputs": []
    },
    {
      "cell_type": "code",
      "source": [
        "def first():\n",
        "    print(\"111111\")\n",
        "    for i in range(5) :\n",
        "        print(i,\"첫번쨰 진행중\")\n",
        "        time.sleep(0.1)\n",
        "    print(\"111111끝\")\n",
        "def sec():\n",
        "    print(\"222222\")\n",
        "    for i in range(5) :\n",
        "        print(i,\"두번째 진행중\")\n",
        "        time.sleep(0.1)\n",
        "    print(\"222222끝\")\n",
        "def third():\n",
        "    print(\"333333\")\n",
        "    for i in range(5) :\n",
        "        print(i,\"세번째 진행중\")\n",
        "        time.sleep(0.1)\n",
        "    print(\"33333끝\")    "
      ],
      "metadata": {
        "id": "eQA6cbkr3apU"
      },
      "execution_count": null,
      "outputs": []
    },
    {
      "cell_type": "code",
      "source": [
        "class Timer():\n",
        "    def __init__(self):\n",
        "        self.start_time=time.time()\n",
        "        self.end_time=None\n",
        "    def end(self):\n",
        "        self.end_time = time.time()\n",
        "        print(f\"처리시간 : {self.end_time - self.start_time}\")\n"
      ],
      "metadata": {
        "id": "LhFiSctQ3kqH"
      },
      "execution_count": null,
      "outputs": []
    },
    {
      "cell_type": "code",
      "source": [
        "timer=Timer()\n",
        "first()\n",
        "sec()\n",
        "third()\n",
        "timer.end()"
      ],
      "metadata": {
        "colab": {
          "base_uri": "https://localhost:8080/"
        },
        "id": "OQ81xJ5x4c6w",
        "outputId": "64db9d7d-3b20-4ad6-8f46-f72c8ef48d6c"
      },
      "execution_count": null,
      "outputs": [
        {
          "output_type": "stream",
          "name": "stdout",
          "text": [
            "111111\n",
            "0 첫번쨰 진행중\n",
            "1 첫번쨰 진행중\n",
            "2 첫번쨰 진행중\n",
            "3 첫번쨰 진행중\n",
            "4 첫번쨰 진행중\n",
            "111111끝\n",
            "222222\n",
            "0 두번째 진행중\n",
            "1 두번째 진행중\n",
            "2 두번째 진행중\n",
            "3 두번째 진행중\n",
            "4 두번째 진행중\n",
            "222222끝\n",
            "333333\n",
            "0 세번째 진행중\n",
            "1 세번째 진행중\n",
            "2 세번째 진행중\n",
            "3 세번째 진행중\n",
            "4 세번째 진행중\n",
            "33333끝\n",
            "처리시간 : 1.5225610733032227\n"
          ]
        }
      ]
    },
    {
      "cell_type": "code",
      "source": [
        "thread_1 = threading.Thread(target = first)\n",
        "thread_2 = threading.Thread(target = sec)\n",
        "thread_3 = threading.Thread(target = third)\n",
        "timer=Timer()\n",
        "thread_1.start()\n",
        "thread_2.start()\n",
        "thread_3.start()\n",
        "\n",
        "for i in range(10):\n",
        "    print(f\"here is not thread {i}\")\n",
        "    time.sleep(0.1)\n",
        "timer.end()"
      ],
      "metadata": {
        "colab": {
          "base_uri": "https://localhost:8080/"
        },
        "id": "-frDgvBG4eni",
        "outputId": "35137355-2953-4c41-b434-16f09a06e5f7"
      },
      "execution_count": null,
      "outputs": [
        {
          "output_type": "stream",
          "name": "stdout",
          "text": [
            "111111\n",
            "0 첫번쨰 진행중\n",
            "222222\n",
            "0 두번째 진행중\n",
            "333333\n",
            "0 세번째 진행중\n",
            "here is not thread 0\n",
            "1 첫번쨰 진행중\n",
            "1 두번째 진행중\n",
            "here is not thread 1\n",
            "1 세번째 진행중\n",
            "2 두번째 진행중\n",
            "2 첫번쨰 진행중\n",
            "here is not thread 2\n",
            "2 세번째 진행중\n",
            "3 두번째 진행중\n",
            "here is not thread 3\n",
            "3 첫번쨰 진행중\n",
            "3 세번째 진행중\n",
            "4 두번째 진행중\n",
            "here is not thread 4\n",
            "4 첫번쨰 진행중\n",
            "4 세번째 진행중\n",
            "222222끝\n",
            "here is not thread 5\n",
            "111111끝\n",
            "33333끝\n",
            "here is not thread 6\n",
            "here is not thread 7\n",
            "here is not thread 8\n",
            "here is not thread 9\n",
            "처리시간 : 1.0078935623168945\n"
          ]
        }
      ]
    },
    {
      "cell_type": "markdown",
      "source": [
        "start후 join 후 시간 출력 하면 모든 프로세스가 끝난후의 시간을 출력"
      ],
      "metadata": {
        "id": "ytgt6DZo7I92"
      }
    },
    {
      "cell_type": "code",
      "source": [
        "thread_1 = threading.Thread(target = first)\n",
        "thread_2 = threading.Thread(target = sec)\n",
        "thread_3 = threading.Thread(target = third)\n",
        "timer=Timer()\n",
        "thread_1.start()\n",
        "thread_2.start()\n",
        "thread_3.start()\n",
        "thread_1.join()\n",
        "thread_2.join()\n",
        "thread_3.join()\n",
        "timer.end()"
      ],
      "metadata": {
        "colab": {
          "base_uri": "https://localhost:8080/"
        },
        "id": "L0MHSFiq5rsu",
        "outputId": "5f24a4ff-c0dd-43fc-80b1-f33f259afe59"
      },
      "execution_count": null,
      "outputs": [
        {
          "output_type": "stream",
          "name": "stdout",
          "text": [
            "111111222222\n",
            "0 첫번쨰 진행중\n",
            "333333\n",
            "0 두번째 진행중\n",
            "\n",
            "0 세번째 진행중\n",
            "1 첫번쨰 진행중\n",
            "1 두번째 진행중\n",
            "1 세번째 진행중\n",
            "2 첫번쨰 진행중\n",
            "2 두번째 진행중\n",
            "2 세번째 진행중\n",
            "3 첫번쨰 진행중\n",
            "3 두번째 진행중\n",
            "3 세번째 진행중\n",
            "4 첫번쨰 진행중\n",
            "4 4 세번째 진행중\n",
            "두번째 진행중\n",
            "111111끝\n",
            "33333끝\n",
            "222222끝\n",
            "처리시간 : 0.5122015476226807\n"
          ]
        }
      ]
    },
    {
      "cell_type": "markdown",
      "source": [
        "start와 join을 함께 쓰면 순차 실행과 같은 결과"
      ],
      "metadata": {
        "id": "OI-pvuUz7CiW"
      }
    },
    {
      "cell_type": "code",
      "source": [
        "thread_1 = threading.Thread(target = first)\n",
        "thread_2 = threading.Thread(target = sec)\n",
        "thread_3 = threading.Thread(target = third)\n",
        "timer=Timer()\n",
        "thread_1.start()\n",
        "thread_1.join()\n",
        "thread_2.start()\n",
        "thread_2.join()\n",
        "thread_3.start()\n",
        "thread_3.join()\n",
        "\n",
        "\n",
        "timer.end()"
      ],
      "metadata": {
        "colab": {
          "base_uri": "https://localhost:8080/"
        },
        "id": "nFBZgB0O6ztf",
        "outputId": "d04021d5-9774-4453-e524-72e8d9fe8bde"
      },
      "execution_count": null,
      "outputs": [
        {
          "output_type": "stream",
          "name": "stdout",
          "text": [
            "111111\n",
            "0 첫번쨰 진행중\n",
            "1 첫번쨰 진행중\n",
            "2 첫번쨰 진행중\n",
            "3 첫번쨰 진행중\n",
            "4 첫번쨰 진행중\n",
            "111111끝\n",
            "222222\n",
            "0 두번째 진행중\n",
            "1 두번째 진행중\n",
            "2 두번째 진행중\n",
            "3 두번째 진행중\n",
            "4 두번째 진행중\n",
            "222222끝\n",
            "333333\n",
            "0 세번째 진행중\n",
            "1 세번째 진행중\n",
            "2 세번째 진행중\n",
            "3 세번째 진행중\n",
            "4 세번째 진행중\n",
            "33333끝\n",
            "처리시간 : 1.515627145767212\n"
          ]
        }
      ]
    },
    {
      "cell_type": "code",
      "source": [
        ""
      ],
      "metadata": {
        "id": "AKMH7hzc7AOk"
      },
      "execution_count": null,
      "outputs": []
    }
  ]
}