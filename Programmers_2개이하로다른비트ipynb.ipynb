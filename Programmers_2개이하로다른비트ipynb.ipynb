{
  "nbformat": 4,
  "nbformat_minor": 0,
  "metadata": {
    "colab": {
      "name": "Programmers_2개이하로다른비트ipynb",
      "provenance": [],
      "authorship_tag": "ABX9TyPwYsiscnVo/Gp2qwLgMksW",
      "include_colab_link": true
    },
    "kernelspec": {
      "name": "python3",
      "display_name": "Python 3"
    },
    "language_info": {
      "name": "python"
    }
  },
  "cells": [
    {
      "cell_type": "markdown",
      "metadata": {
        "id": "view-in-github",
        "colab_type": "text"
      },
      "source": [
        "<a href=\"https://colab.research.google.com/github/rnjsdn12332/Coding_study/blob/main/Programmers_2%EA%B0%9C%EC%9D%B4%ED%95%98%EB%A1%9C%EB%8B%A4%EB%A5%B8%EB%B9%84%ED%8A%B8ipynb.ipynb\" target=\"_parent\"><img src=\"https://colab.research.google.com/assets/colab-badge.svg\" alt=\"Open In Colab\"/></a>"
      ]
    },
    {
      "cell_type": "code",
      "execution_count": null,
      "metadata": {
        "id": "of0nstwjCs94"
      },
      "outputs": [],
      "source": [
        "def solution(numbers):\n",
        "    answer = []\n",
        "    for i in range(len(numbers)) :\n",
        "        bit_val=bin(numbers[i])[2:].zfill(15)\n",
        "        find_num=1\n",
        "        while True :\n",
        "            find_bit=bin(numbers[i]+find_num)[2:].zfill(15)\n",
        "            count=0\n",
        "            for index in range(len(find_bit)) :\n",
        "                b=bit_val[index]\n",
        "                f=find_bit[index]\n",
        "                if not b==f :\n",
        "                    count=count+1\n",
        "            if count==2 or count==1:\n",
        "                answer.append(numbers[i]+find_num)\n",
        "                break\n",
        "            else :\n",
        "                find_num+=1\n",
        "            \n",
        "    return answer"
      ]
    }
  ]
}