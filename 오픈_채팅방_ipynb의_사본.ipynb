{
  "nbformat": 4,
  "nbformat_minor": 0,
  "metadata": {
    "colab": {
      "name": "오픈 채팅방.ipynb의 사본",
      "provenance": [],
      "mount_file_id": "https://gist.github.com/rnjsdn12332/43da325b2cf4cec9bd4bdcba09549837#file--ipynb",
      "authorship_tag": "ABX9TyNmB0LM1dO5kso/e3Y8Hshk",
      "include_colab_link": true
    },
    "kernelspec": {
      "name": "python3",
      "display_name": "Python 3"
    },
    "language_info": {
      "name": "python"
    }
  },
  "cells": [
    {
      "cell_type": "markdown",
      "metadata": {
        "id": "view-in-github",
        "colab_type": "text"
      },
      "source": [
        "<a href=\"https://colab.research.google.com/github/rnjsdn12332/Coding_study/blob/main/%EC%98%A4%ED%94%88_%EC%B1%84%ED%8C%85%EB%B0%A9_ipynb%EC%9D%98_%EC%82%AC%EB%B3%B8.ipynb\" target=\"_parent\"><img src=\"https://colab.research.google.com/assets/colab-badge.svg\" alt=\"Open In Colab\"/></a>"
      ]
    },
    {
      "cell_type": "code",
      "execution_count": null,
      "metadata": {
        "id": "3psjjF2cXKv0"
      },
      "outputs": [],
      "source": [
        "def solution(record) :\n",
        "    answer=[]\n",
        "    data=dict()\n",
        "    for log in record :\n",
        "        if \"Enter\" in log :\n",
        "            data[log.split(\" \")[1]]=log.split(\" \")[2]\n",
        "        elif \"Change\" in log :\n",
        "            data[log.split(\" \")[1]]=log.split(\" \")[2]\n",
        "    for log in record :\n",
        "        uid=log.split(\" \")[1]\n",
        "        if \"Enter\" in log :\n",
        "            commend=\"들어왔습니다.\"\n",
        "            answer.append(data[uid]+\"님이 \"+commned)\n",
        "        elif \"Leave\" in log :\n",
        "            commend=\"나갔습니다.\"\n",
        "            answer.append(data[uid]+\"님이 \"+commend)\n",
        "    return answer"
      ]
    },
    {
      "cell_type": "code",
      "source": [
        ""
      ],
      "metadata": {
        "id": "PuEprq-dbj5-"
      },
      "execution_count": null,
      "outputs": []
    },
    {
      "cell_type": "code",
      "source": [
        ""
      ],
      "metadata": {
        "id": "8bvBuY4mb_fS"
      },
      "execution_count": null,
      "outputs": []
    }
  ]
}