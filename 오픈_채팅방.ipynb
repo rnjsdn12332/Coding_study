{
  "nbformat": 4,
  "nbformat_minor": 0,
  "metadata": {
    "colab": {
      "name": "오픈 채팅방.ipynb",
      "provenance": [],
      "mount_file_id": "https://gist.github.com/rnjsdn12332/43da325b2cf4cec9bd4bdcba09549837#file--ipynb",
      "authorship_tag": "ABX9TyMFAmOvtcjQ+8M5aJUw54TK",
      "include_colab_link": true
    },
    "kernelspec": {
      "name": "python3",
      "display_name": "Python 3"
    },
    "language_info": {
      "name": "python"
    }
  },
  "cells": [
    {
      "cell_type": "markdown",
      "metadata": {
        "id": "view-in-github",
        "colab_type": "text"
      },
      "source": [
        "<a href=\"https://colab.research.google.com/github/rnjsdn12332/baekjun_study/blob/main/%EC%98%A4%ED%94%88_%EC%B1%84%ED%8C%85%EB%B0%A9.ipynb\" target=\"_parent\"><img src=\"https://colab.research.google.com/assets/colab-badge.svg\" alt=\"Open In Colab\"/></a>"
      ]
    },
    {
      "cell_type": "code",
      "execution_count": null,
      "metadata": {
        "id": "3psjjF2cXKv0"
      },
      "outputs": [],
      "source": [
        "def solution(record) :\n",
        "    answer=[]\n",
        "    data=dict()\n",
        "    for log in record :\n",
        "        if \"Enter\" in log :\n",
        "            data[log.split(\" \")[1]]=log.split(\" \")[2]\n",
        "        elif \"Change\" in log :\n",
        "            data[log.split(\" \")[1]]=log.split(\" \")[2]\n",
        "    for log in record :\n",
        "        uid=log.split(\" \")[1]\n",
        "        if \"Enter\" in log :\n",
        "            commend=\"들어왔습니다.\"\n",
        "            answer.append(data[uid]+\"님이 \"+commned)\n",
        "        elif \"Leave\" in log :\n",
        "            commend=\"나갔습니다.\"\n",
        "            answer.append(data[uid]+\"님이 \"+commend)\n",
        "    return answer"
      ]
    },
    {
      "cell_type": "code",
      "source": [
        "%cd /content/drive/MyDrive/코테"
      ],
      "metadata": {
        "id": "3HO-DnBHYEgK",
        "outputId": "82792e96-0c17-4ee5-cd02-6c04664c121e",
        "colab": {
          "base_uri": "https://localhost:8080/"
        }
      },
      "execution_count": 5,
      "outputs": [
        {
          "output_type": "stream",
          "name": "stdout",
          "text": [
            "/content/drive/MyDrive/코테\n"
          ]
        }
      ]
    },
    {
      "cell_type": "code",
      "source": [
        "%ls"
      ],
      "metadata": {
        "id": "qhO0cmEuat3K",
        "outputId": "8d40a026-1021-44da-8471-1e6cbd158c8f",
        "colab": {
          "base_uri": "https://localhost:8080/"
        }
      },
      "execution_count": 7,
      "outputs": [
        {
          "output_type": "stream",
          "name": "stdout",
          "text": [
            "'오픈 채팅방.ipynb'   정렬.ipynb\n"
          ]
        }
      ]
    },
    {
      "cell_type": "code",
      "source": [
        ""
      ],
      "metadata": {
        "id": "PuEprq-dbj5-"
      },
      "execution_count": null,
      "outputs": []
    },
    {
      "cell_type": "code",
      "source": [
        "!git config --global user.email \"rnjsdn12332@naver.com\"\n",
        "!git config --global user.name \"rnjsdn12332\""
      ],
      "metadata": {
        "id": "biMXOkXIaafR"
      },
      "execution_count": 11,
      "outputs": []
    },
    {
      "cell_type": "code",
      "source": [
        "!git init"
      ],
      "metadata": {
        "id": "lEwE9G-4bdMj",
        "outputId": "cd97d57f-4c91-42b4-e521-41f970e8c079",
        "colab": {
          "base_uri": "https://localhost:8080/"
        }
      },
      "execution_count": 12,
      "outputs": [
        {
          "output_type": "stream",
          "name": "stdout",
          "text": [
            "Reinitialized existing Git repository in /content/drive/MyDrive/코테/.git/\n"
          ]
        }
      ]
    },
    {
      "cell_type": "code",
      "source": [
        "!git add ."
      ],
      "metadata": {
        "id": "PtaSLUtgahWY"
      },
      "execution_count": 13,
      "outputs": []
    },
    {
      "cell_type": "code",
      "source": [
        "!git commit -m \"First commit\""
      ],
      "metadata": {
        "id": "4uVtw1USboIi",
        "outputId": "10c49be0-9239-4261-919d-b72227d565d4",
        "colab": {
          "base_uri": "https://localhost:8080/"
        }
      },
      "execution_count": 16,
      "outputs": [
        {
          "output_type": "stream",
          "name": "stdout",
          "text": [
            "[master (root-commit) be2d284] First commit\n",
            " 2 files changed, 2 insertions(+)\n",
            " create mode 100644 \"\\341\\204\\213\\341\\205\\251\\341\\204\\221\\341\\205\\263\\341\\206\\253 \\341\\204\\216\\341\\205\\242\\341\\204\\220\\341\\205\\265\\341\\206\\274\\341\\204\\207\\341\\205\\241\\341\\206\\274.ipynb\"\n",
            " create mode 100644 \"\\341\\204\\214\\341\\205\\245\\341\\206\\274\\341\\204\\205\\341\\205\\247\\341\\206\\257.ipynb\"\n"
          ]
        }
      ]
    },
    {
      "cell_type": "code",
      "source": [
        "!git remote add origin git@github.com:rnjsdn12332/Programmers_study.git"
      ],
      "metadata": {
        "id": "7MmA5a-yalNO",
        "outputId": "6e295859-db2a-43f4-820a-eba127949022",
        "colab": {
          "base_uri": "https://localhost:8080/"
        }
      },
      "execution_count": 21,
      "outputs": [
        {
          "output_type": "stream",
          "name": "stdout",
          "text": [
            "fatal: remote origin already exists.\n"
          ]
        }
      ]
    },
    {
      "cell_type": "code",
      "source": [
        "!git branch -M main"
      ],
      "metadata": {
        "id": "88upiklKcNby"
      },
      "execution_count": 25,
      "outputs": []
    },
    {
      "cell_type": "code",
      "source": [
        "!git push -u origin main"
      ],
      "metadata": {
        "id": "eXwCQw4rbuRS",
        "outputId": "ffefd095-5545-4e79-a964-e63caeb45e58",
        "colab": {
          "base_uri": "https://localhost:8080/"
        }
      },
      "execution_count": 26,
      "outputs": [
        {
          "output_type": "stream",
          "name": "stdout",
          "text": [
            "Host key verification failed.\r\n",
            "fatal: Could not read from remote repository.\n",
            "\n",
            "Please make sure you have the correct access rights\n",
            "and the repository exists.\n"
          ]
        }
      ]
    },
    {
      "cell_type": "code",
      "source": [
        ""
      ],
      "metadata": {
        "id": "8bvBuY4mb_fS"
      },
      "execution_count": null,
      "outputs": []
    }
  ]
}