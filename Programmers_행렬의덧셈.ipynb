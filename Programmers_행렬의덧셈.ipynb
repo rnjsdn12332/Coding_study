{
  "nbformat": 4,
  "nbformat_minor": 0,
  "metadata": {
    "colab": {
      "name": "Programmers_행렬의덧셈.ipynb",
      "provenance": [],
      "authorship_tag": "ABX9TyMzanUGPkEag8oOv54ulAo1",
      "include_colab_link": true
    },
    "kernelspec": {
      "name": "python3",
      "display_name": "Python 3"
    },
    "language_info": {
      "name": "python"
    }
  },
  "cells": [
    {
      "cell_type": "markdown",
      "metadata": {
        "id": "view-in-github",
        "colab_type": "text"
      },
      "source": [
        "<a href=\"https://colab.research.google.com/github/rnjsdn12332/Coding_study/blob/main/Programmers_%ED%96%89%EB%A0%AC%EC%9D%98%EB%8D%A7%EC%85%88.ipynb\" target=\"_parent\"><img src=\"https://colab.research.google.com/assets/colab-badge.svg\" alt=\"Open In Colab\"/></a>"
      ]
    },
    {
      "cell_type": "markdown",
      "source": [
        "numpy 이용해서 풀기"
      ],
      "metadata": {
        "id": "H1i15zlxs022"
      }
    },
    {
      "cell_type": "code",
      "execution_count": null,
      "metadata": {
        "id": "WWAru6XwsG3m"
      },
      "outputs": [],
      "source": [
        "import numpy as np\n",
        "def solution(arr1, arr2):\n",
        "    arr_1=np.array(arr1)\n",
        "    arr_2=np.array(arr2)\n",
        "    result=arr_1+arr_2\n",
        "    return result.tolist()"
      ]
    },
    {
      "cell_type": "markdown",
      "source": [
        "이중반복문으로 문제풀이"
      ],
      "metadata": {
        "id": "mFrp63AysxdD"
      }
    },
    {
      "cell_type": "code",
      "source": [
        "\n",
        "def solution(arr1, arr2):\n",
        "    answer=[[]]\n",
        "    for i in range(len(arr1)) :\n",
        "        for j in range(len(arr1[0])) :\n",
        "            arr1[i][j]+=arr2[i][j]\n",
        "    return arr1"
      ],
      "metadata": {
        "id": "V-RzydEGsw3V"
      },
      "execution_count": null,
      "outputs": []
    }
  ]
}